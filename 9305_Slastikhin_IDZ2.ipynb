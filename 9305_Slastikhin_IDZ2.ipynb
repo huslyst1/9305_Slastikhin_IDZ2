{
 "cells": [
  {
   "cell_type": "markdown",
   "id": "37bdd3ce",
   "metadata": {},
   "source": [
    "Идз 2\n",
    "17. Многочлены одной переменной с целыми коэффициентами: x^234-3x+17x^2+50\n",
    "\n",
    "\n",
    "\n",
    "1) Набор примеров:\n",
    "x^3+2x-x^6\n",
    "x^234-3x+17x^2+50\n",
    "4x+x-3x^2\n",
    "Набор контрпримеров:\n",
    "x^45-4y^7\n",
    "65x^3-57x^453+\n",
    "6,8x^45+54x^5.6-67+32x^2\n",
    "\n",
    "2)КС- грамматика\n",
    "<глав.пол.>::=<знак>|<условие><пол.>|ε\n",
    "<пол.>::=<знак><пол.>|ε\n",
    "<знак>::=+|-|^<условие>\n",
    "<условие>::=<степень>|<осн>|<осн><знак>|<степень><осн>|<степень><осн><знак><степень>\n",
    "<осн>::=x\n",
    "<степень>::=INTEGER\n",
    "\n",
    "3)Грамматический разбор одного примера\n",
    "x^234-3x+17x^2+50\n",
    "<глав.пол.>\n",
    "<условие><пол.>\n",
    "<осн><знак><пол.>\n",
    "x^234<пол.>\n",
    "x^234-<условие><пол.>\n",
    "x^234-<степень><осн><пол.>\n",
    "x^234-3x<пол.>\n",
    "x^234-3x+<условие><пол.>\n",
    "x^234-3x+<степень><осн><знак><степень><пол.>\n",
    "x^234-3x+17x^2<пол.>\n",
    "x^234-3x+17x^2+<условие><пол.>\n",
    "x^234-3x+17x^2+<степень><пол.>\n",
    "x^234-3x+17x^2+50<пол.>\n",
    "x^234-3x+17x^2+50 - верно"
   ]
  },
  {
   "cell_type": "markdown",
   "id": "334898d2",
   "metadata": {},
   "source": [
    "<img src=\"https://drive.google.com/file/d/17_Bg79eKAgFFI84gZ8nfR9SIvr4hbmA2/view\">"
   ]
  },
  {
   "cell_type": "markdown",
   "id": "86325e70",
   "metadata": {},
   "source": [
    "9) Код программы"
   ]
  },
  {
   "cell_type": "code",
   "execution_count": null,
   "id": "9bf75c4e",
   "metadata": {},
   "outputs": [],
   "source": [
    "import re\n",
    "\n",
    "regex = r\"^[+-]{0,1}(\\d{0,}x(\\^\\d+){0,1}|\\d{1,})([+-](\\d{0,}x(\\^\\d+){0,1}|\\d{1,}))*$$\"\n",
    "\n",
    "string = input()\n",
    "\n",
    "if re.match(regex, string):\n",
    "    print(\"Всё в порядке\")\n",
    "else:\n",
    "    print(\"Ошибка! Запись некорректна\")"
   ]
  },
  {
   "cell_type": "code",
   "execution_count": null,
   "id": "61a89adb",
   "metadata": {},
   "outputs": [],
   "source": []
  }
 ],
 "metadata": {
  "kernelspec": {
   "display_name": "Python 3",
   "language": "python",
   "name": "python3"
  },
  "language_info": {
   "codemirror_mode": {
    "name": "ipython",
    "version": 3
   },
   "file_extension": ".py",
   "mimetype": "text/x-python",
   "name": "python",
   "nbconvert_exporter": "python",
   "pygments_lexer": "ipython3",
   "version": "3.9.5"
  }
 },
 "nbformat": 4,
 "nbformat_minor": 5
}
